{
  "nbformat": 4,
  "nbformat_minor": 0,
  "metadata": {
    "colab": {
      "provenance": []
    },
    "kernelspec": {
      "name": "python3",
      "display_name": "Python 3"
    },
    "language_info": {
      "name": "python"
    }
  },
  "cells": [
    {
      "cell_type": "code",
      "execution_count": 25,
      "metadata": {
        "colab": {
          "base_uri": "https://localhost:8080/"
        },
        "id": "8y-2RfALA7Rg",
        "outputId": "789ae57a-ae02-426d-a0d4-a8c6fdb67c85"
      },
      "outputs": [
        {
          "output_type": "stream",
          "name": "stdout",
          "text": [
            "How many kilometers? 5\n",
            "That's  3.106855 miles.\n",
            "What degree celsius? 30\n",
            "That's  86.0 degrees fahrenheit.\n",
            "360\n"
          ]
        }
      ],
      "source": [
        "kilometers = input(\"How many kilometers? \")\n",
        "miles = float(kilometers) * (0.621371)\n",
        "print(\"That's \", miles, \"miles.\")\n",
        "celsius = input(\"What degree celsius? \")\n",
        "fahrenheit = float(celsius) * (1.8) + (32)\n",
        "print(\"That's \", fahrenheit, \"degrees fahrenheit.\")\n",
        "binary = (0 * 2**0) + (0 * 2**1) + (0 * 2**2) + (1 * 2**3) + (0 * 2**4) + (1 * 2**5) + (1 * 2**6) + (0 * 2**7) + (1 * 2**8)\n",
        "print(binary)"
      ]
    }
  ]
}